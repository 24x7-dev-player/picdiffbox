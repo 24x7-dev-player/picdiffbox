{
 "cells": [
  {
   "cell_type": "code",
   "execution_count": 6,
   "metadata": {},
   "outputs": [],
   "source": [
    "from picdiffbox.picdiffbox import compare_images\n"
   ]
  },
  {
   "cell_type": "code",
   "execution_count": 8,
   "metadata": {},
   "outputs": [
    {
     "name": "stdout",
     "output_type": "stream",
     "text": [
      "Differences saved in: F:/picdiffbox/tests\\diff_image.png\n",
      "Differences saved in: F:/picdiffbox/tests\\diff_image.png\n"
     ]
    }
   ],
   "source": [
    "image1 = 'F:/picdiffbox/tests/input1.png'\n",
    "image2 = 'F:/picdiffbox/tests/input2.png'\n",
    "result_path = compare_images(image1, image2)\n",
    "print(f\"Differences saved in: {result_path}\")"
   ]
  },
  {
   "cell_type": "code",
   "execution_count": null,
   "metadata": {},
   "outputs": [],
   "source": []
  },
  {
   "cell_type": "code",
   "execution_count": null,
   "metadata": {},
   "outputs": [],
   "source": []
  }
 ],
 "metadata": {
  "kernelspec": {
   "display_name": "python10",
   "language": "python",
   "name": "python3"
  },
  "language_info": {
   "codemirror_mode": {
    "name": "ipython",
    "version": 3
   },
   "file_extension": ".py",
   "mimetype": "text/x-python",
   "name": "python",
   "nbconvert_exporter": "python",
   "pygments_lexer": "ipython3",
   "version": "3.10.14"
  }
 },
 "nbformat": 4,
 "nbformat_minor": 2
}
